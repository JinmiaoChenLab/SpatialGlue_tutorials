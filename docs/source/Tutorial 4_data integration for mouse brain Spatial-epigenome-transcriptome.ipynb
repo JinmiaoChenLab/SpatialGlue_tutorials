{
 "cells": [
  {
   "cell_type": "markdown",
   "id": "3b6e39a7",
   "metadata": {},
   "source": [
    "# Tutorial 4: data integration for mouse brain Spatial-epigenome-transcriptome"
   ]
  },
  {
   "cell_type": "markdown",
   "id": "9014c08b",
   "metadata": {},
   "source": [
    "In this tutorial, we demonstrate how to apply SpatialGlue to integrate Spatial-epigenome-transcriptome (Zhang et al.) data to obtain fine-grained clusters. Spatial-epigenome-transcriptome enables joint profiling of the epigenome and transcriptome by cosequencing chromtin accessibility and gene expression. As a example, we analyse a mouse brain P22 dataset. We collected the data from from AtlasXplore (https://web.atlasxomics.com/visualization/Fan). \n",
    "\n",
    "Before running the model, please download the input data via https://drive.google.com/drive/folders/1qO4KRAU7k942ktBkyiHMdvUuydWskeXO."
   ]
  },
  {
   "cell_type": "markdown",
   "id": "621a7568",
   "metadata": {},
   "source": [
    "## Loading package"
   ]
  },
  {
   "cell_type": "code",
   "execution_count": 13,
   "id": "8725372c",
   "metadata": {},
   "outputs": [],
   "source": [
    "import os\n",
    "import torch\n",
    "import pandas as pd\n",
    "import scanpy as sc"
   ]
  },
  {
   "cell_type": "code",
   "execution_count": 14,
   "id": "5a8597e5",
   "metadata": {},
   "outputs": [],
   "source": [
    "from SpatialGlue import SpatialGlue"
   ]
  },
  {
   "cell_type": "code",
   "execution_count": 15,
   "id": "06a631be",
   "metadata": {},
   "outputs": [],
   "source": [
    "# Environment configuration. SpatialGlue pacakge can be implemented with either CPU or GPU. GPU acceleration is highly recommend for imporoved efficiency.\n",
    "device = torch.device('cuda:1' if torch.cuda.is_available() else 'cpu')\n",
    "\n",
    "# the location of R, which is necessary for mclust algorithm. Please replace the path below with local R installation path\n",
    "os.environ['R_HOME'] = '/scbio4/tools/R/R-4.0.3_openblas/R-4.0.3'"
   ]
  },
  {
   "cell_type": "code",
   "execution_count": 16,
   "id": "ad612f01",
   "metadata": {},
   "outputs": [],
   "source": [
    "# Specify data type\n",
    "data_type = 'Spatial-epigenome-transcriptome'\n",
    "\n",
    "# Fix random seed\n",
    "from SpatialGlue.preprocess import fix_seed\n",
    "random_seed = 2022\n",
    "fix_seed(random_seed)"
   ]
  },
  {
   "cell_type": "markdown",
   "id": "7efd6b02",
   "metadata": {},
   "source": [
    "## Loading data"
   ]
  },
  {
   "cell_type": "code",
   "execution_count": 17,
   "id": "d50cd367",
   "metadata": {},
   "outputs": [],
   "source": [
    "# read data\n",
    "file_fold = '/home/yahui/anaconda3/work/SpatialGlue_revision/data/Dataset7_Mouse_Brain1/' #please replace 'file_fold' with the download path\n",
    "\n",
    "adata_omics1 = sc.read_h5ad(file_fold + 'adata_RNA.h5ad')\n",
    "adata_omics2 = sc.read_h5ad(file_fold + 'adata_peaks_normalized.h5ad') \n",
    "\n",
    "adata_omics1.var_names_make_unique()\n",
    "adata_omics2.var_names_make_unique()"
   ]
  },
  {
   "cell_type": "markdown",
   "id": "6bfff41b",
   "metadata": {},
   "source": [
    "## Pre-processing data\n",
    "SpatialGlue adopts standard pre-processing steps for the transcriptomic and protein data. Specifically,for the transcriptomics data,the gene expression counts are log-transformed and normalized by library size via the SCANPY package. The top 3,000 highly variable genes (HVGs) are selected as input of PCA for dimension reduction. To ensure a consistent input dimension with the chromatin peak data, the first 50 principal components are retained and used as the input of the model. For the chromatin peak data, we used LSI (latent semantic indexing) to reduce the raw chromatin peak counts data to 50 dimensions. "
   ]
  },
  {
   "cell_type": "code",
   "execution_count": 18,
   "id": "3f9beded",
   "metadata": {},
   "outputs": [],
   "source": [
    "from SpatialGlue.preprocess import clr_normalize_each_cell, pca, lsi\n",
    "\n",
    "# RNA\n",
    "sc.pp.filter_genes(adata_omics1, min_cells=10)\n",
    "sc.pp.filter_cells(adata_omics1, min_genes=200)\n",
    "  \n",
    "sc.pp.highly_variable_genes(adata_omics1, flavor=\"seurat_v3\", n_top_genes=3000)\n",
    "sc.pp.normalize_total(adata_omics1, target_sum=1e4)\n",
    "sc.pp.log1p(adata_omics1)\n",
    "sc.pp.scale(adata_omics1)\n",
    "  \n",
    "adata_omics1_high =  adata_omics1[:, adata_omics1.var['highly_variable']]\n",
    "adata_omics1.obsm['feat'] = pca(adata_omics1_high, n_comps=50)\n",
    "  \n",
    "# ATAC\n",
    "adata_omics2 = adata_omics2[adata_omics1.obs_names].copy() # .obsm['X_lsi'] represents the dimension reduced feature\n",
    "if 'X_lsi' not in adata_omics2.obsm.keys():\n",
    "    sc.pp.highly_variable_genes(adata_omics2, flavor=\"seurat_v3\", n_top_genes=3000)\n",
    "    lsi(adata_omics2, use_highly_variable=False, n_components=51)\n",
    "      \n",
    "adata_omics2.obsm['feat'] = adata_omics2.obsm['X_lsi'].copy()"
   ]
  },
  {
   "cell_type": "markdown",
   "id": "e0526431",
   "metadata": {},
   "source": [
    "# Constructing neighbor graph"
   ]
  },
  {
   "cell_type": "markdown",
   "id": "bb58b3e3",
   "metadata": {},
   "source": [
    "To preserve the physical proximity between spots and phenotypic proximity of spots which have the same cell types but are spatially non-adjacent to each other, we construct two neighbors graphs, i.e., spatial graph and feature graph. Spatial graph is constructed based on spatial information while feature graph is constructed based on expression profiles."
   ]
  },
  {
   "cell_type": "code",
   "execution_count": 19,
   "id": "5d17df6c",
   "metadata": {},
   "outputs": [],
   "source": [
    "from SpatialGlue.preprocess import construct_neighbor_graph\n",
    "data = construct_neighbor_graph(adata_omics1, adata_omics2, datatype=data_type)"
   ]
  },
  {
   "cell_type": "markdown",
   "id": "65688acb",
   "metadata": {},
   "source": [
    "## Training the model"
   ]
  },
  {
   "cell_type": "markdown",
   "id": "60c7c1b7",
   "metadata": {},
   "source": [
    "The SpatialGlue model aims to learn an integrated latent representation by adaptively integrating expression profiles of different omics modalities in a spatially aware manner. \n",
    "\n",
    "After model training, SpatialGlue returns 'output' file. The 'output' file include multiple output results. Let's go through each of the results in more detail:\n",
    "\n",
    "1. Latent Representations:\n",
    "\n",
    "* 'emb_latent_omics1': latent representation for the first omics modality.\n",
    "\n",
    "* 'emb_latent_omics2': latent representation for the second omics modality.\n",
    "\n",
    "* 'SpatialGlue': joint representation learned by incorporating expression data and spatial location information.\n",
    "\n",
    "   The joint representation can be used for downstream analysis such as clustering, visualization, or identifying differentially expressed genes (DEGs).\n",
    "\n",
    "2. Attention Weight Values:\n",
    "\n",
    "* 'alpha_omics1': intra-modality attention weight for the first omics modality, explaining the contribution of each graph to each cluster.\n",
    "\n",
    "* 'alpha_omics2': intra-modality attention weight for the second omics modality, explaining the contribution of each graph to each cluster.\n",
    "\n",
    "* 'alpha': inter-modality attention weight explaining the contribution of each modality to each cluster.\n",
    "\n",
    "   These intra- and inter-modality attention weights provide interpretable insights into the importance of each neighborhood graph and modality to each cluster. "
   ]
  },
  {
   "cell_type": "code",
   "execution_count": 20,
   "id": "0e4df326",
   "metadata": {},
   "outputs": [
    {
     "name": "stderr",
     "output_type": "stream",
     "text": [
      "  0%|                                                                                                                                                                                | 0/1600 [00:00<?, ?it/s]/home/yahui/anaconda3/envs/STGAT/lib/python3.8/site-packages/torch/nn/functional.py:1933: UserWarning: nn.functional.tanh is deprecated. Use torch.tanh instead.\n",
      "  warnings.warn(\"nn.functional.tanh is deprecated. Use torch.tanh instead.\")\n",
      "/home/yahui/anaconda3/envs/STGAT/lib/python3.8/site-packages/SpatialGlue/model.py:212: UserWarning: Implicit dimension choice for softmax has been deprecated. Change the call to include dim=X as an argument.\n",
      "  self.alpha = F.softmax(torch.squeeze(self.vu) + 1e-6)\n",
      "100%|█████████████████████████████████████████████████████████████████████████████████████████████████████████████████████████████████████████████████████████████████████| 1600/1600 [00:40<00:00, 39.13it/s]"
     ]
    },
    {
     "name": "stdout",
     "output_type": "stream",
     "text": [
      "Model training finished!\n",
      "\n"
     ]
    },
    {
     "name": "stderr",
     "output_type": "stream",
     "text": [
      "\n"
     ]
    }
   ],
   "source": [
    "# define model\n",
    "from SpatialGlue.SpatialGlue_pyG import Train_SpatialGlue\n",
    "model = Train_SpatialGlue(data, datatype=data_type, device=device)\n",
    "\n",
    "# train model\n",
    "output = model.train()"
   ]
  },
  {
   "cell_type": "code",
   "execution_count": 21,
   "id": "17164271",
   "metadata": {},
   "outputs": [],
   "source": [
    "adata = adata_omics1.copy()\n",
    "adata.obsm['emb_latent_omics1'] = output['emb_latent_omics1']\n",
    "adata.obsm['emb_latent_omics2'] = output['emb_latent_omics2']\n",
    "adata.obsm['SpatialGlue'] = output['SpatialGlue']\n",
    "adata.obsm['alpha'] = output['alpha']\n",
    "adata.obsm['alpha_omics1'] = output['alpha_omics1']\n",
    "adata.obsm['alpha_omics2'] = output['alpha_omics2']"
   ]
  },
  {
   "cell_type": "markdown",
   "id": "63a89d9a",
   "metadata": {},
   "source": [
    "## Cross-omics integrative analysis"
   ]
  },
  {
   "cell_type": "markdown",
   "id": "f4353e0f",
   "metadata": {},
   "source": [
    "After integration, we perform clustering analysis using the joint representation. Here we provid three optional kinds of tools for clustering, including mclust, leiden, and louvain. In our experiment, we find 'mclust' algorithm performs better than 'leiden' and 'louvain' on spatial data in most cases. Therefore, we recommend using 'mclust' algorithm for clustering."
   ]
  },
  {
   "cell_type": "code",
   "execution_count": null,
   "id": "053e0984",
   "metadata": {},
   "outputs": [
    {
     "name": "stdout",
     "output_type": "stream",
     "text": [
      "fitting ...\n",
      "  |===================================                                   |  50%"
     ]
    }
   ],
   "source": [
    "# we set 'mclust' as clustering tool by default. Users can also select 'leiden' and 'louvain'\n",
    "from SpatialGlue.utils import clustering\n",
    "tool = 'mclust' # mclust, leiden, and louvain\n",
    "clustering(adata, key='SpatialGlue', add_key='SpatialGlue', n_clusters=18, method=tool, use_pca=True) "
   ]
  },
  {
   "cell_type": "code",
   "execution_count": null,
   "id": "26d412cf",
   "metadata": {},
   "outputs": [],
   "source": [
    "# visualization\n",
    "import matplotlib.pyplot as plt\n",
    "fig, ax_list = plt.subplots(1, 2, figsize=(14, 5))\n",
    "sc.pp.neighbors(adata, use_rep='SpatialGlue', n_neighbors=30)\n",
    "sc.tl.umap(adata)\n",
    "\n",
    "sc.pl.umap(adata, color='SpatialGlue', ax=ax_list[0], title='SpatialGlue', s=60, show=False)\n",
    "sc.pl.embedding(adata, basis='spatial', color='SpatialGlue', ax=ax_list[1], title='SpatialGlue', s=90, show=False)\n",
    "\n",
    "plt.tight_layout(w_pad=0.3)\n",
    "plt.show()"
   ]
  },
  {
   "cell_type": "code",
   "execution_count": null,
   "id": "275406ef",
   "metadata": {},
   "outputs": [],
   "source": [
    "# plotting modality weight values. \n",
    "import pandas as pd  \n",
    "import seaborn as sns\n",
    "plt.rcParams['figure.figsize'] = (7,3)\n",
    "df = pd.DataFrame(columns=['RNA', 'peak', 'label'])  \n",
    "df['RNA'], df['peak'] = adata.obsm['alpha'][:, 0], adata.obsm['alpha'][:, 1]\n",
    "df['label'] = adata.obs['SpatialGlue'].values\n",
    "df = df.set_index('label').stack().reset_index()\n",
    "df.columns = ['label_SpatialGlue', 'Modality', 'Weight value']\n",
    "ax = sns.violinplot(data=df, x='label_SpatialGlue', y='Weight value', hue=\"Modality\",\n",
    "                split=True, inner=\"quart\", linewidth=1, show=False)\n",
    "ax.set_title('RNA vs peak')\n",
    "ax.set_xlabel('SpatialGlue label')\n",
    "ax.legend(bbox_to_anchor=(1.2, 1.01), loc='upper right')\n",
    "\n",
    "plt.tight_layout(w_pad=0.05)\n",
    "#plt.show()  "
   ]
  }
 ],
 "metadata": {
  "kernelspec": {
   "display_name": "STGAT",
   "language": "python",
   "name": "stgat"
  },
  "language_info": {
   "codemirror_mode": {
    "name": "ipython",
    "version": 3
   },
   "file_extension": ".py",
   "mimetype": "text/x-python",
   "name": "python",
   "nbconvert_exporter": "python",
   "pygments_lexer": "ipython3",
   "version": "3.8.0"
  }
 },
 "nbformat": 4,
 "nbformat_minor": 5
}
